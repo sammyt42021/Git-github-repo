{
 "cells": [
  {
   "cell_type": "markdown",
   "id": "9d998412",
   "metadata": {},
   "source": [
    "# File-handling"
   ]
  },
  {
   "cell_type": "markdown",
   "id": "b635a946",
   "metadata": {},
   "source": [
    "#clean the quotes file"
   ]
  },
  {
   "cell_type": "code",
   "execution_count": 33,
   "id": "ae9af0cc",
   "metadata": {},
   "outputs": [],
   "source": [
    "# we will use regular expressions package to clean strings contents\n",
    "import re \n"
   ]
  },
  {
   "cell_type": "code",
   "execution_count": null,
   "id": "20d0bf09",
   "metadata": {},
   "outputs": [],
   "source": [
    "# create an empty list for saving quotes\n",
    "quotes = []\n",
    "\n",
    "# initiate a quote number\n",
    "\n"
   ]
  },
  {
   "cell_type": "code",
   "execution_count": 35,
   "id": "79cc2c9c",
   "metadata": {},
   "outputs": [],
   "source": [
    "# i need to understand value, variables etc.."
   ]
  },
  {
   "cell_type": "code",
   "execution_count": 36,
   "id": "f17289a6",
   "metadata": {},
   "outputs": [
    {
     "name": "stdout",
     "output_type": "stream",
     "text": [
      "['  If     we     knew what it was      we were doing, it would not be called research,          would it?     - Albert Einstein\\n', '\\n', 'Time is a drug. Too       much of it kills you.  -  Terry Pratchett\\n', '\\n', '\\n', ' An expert is a person who       has made all the mistakes that           can be made in a          very narrow field - Niels Bohr\\n', '\\n', '   Everything must be made as simple as possible. But not simpler. - Albert Einstein     \\n', '\\n', '\\n', '  Nothing in life                is to be feared, it is only to be understood. Now is the time to understand more, so that we may fear less. - Marie  Curie  \\n', '\\n', 'If I have seen further     it is by standing on the shoulders of Giants. - Isaac Newton']\n"
     ]
    }
   ],
   "source": [
    "# open the file in read mode\n",
    "# comparing  the use of absolute path vs relative path\n",
    "with open(\"quotes.txt\", \"r\") as f_read: \n",
    "    quotes_raw = f_read.readlines()\n",
    "    print(quotes_raw) # check the contents of the file\n",
    "\n",
    "    quotes_raw = [quote.strip() for quote in quotes_raw] # remove leading/trailing whitespace characters"
   ]
  },
  {
   "cell_type": "code",
   "execution_count": 37,
   "id": "769b0147",
   "metadata": {},
   "outputs": [
    {
     "name": "stdout",
     "output_type": "stream",
     "text": [
      "<_io.TextIOWrapper name='quotes.txt' mode='r' encoding='UTF-8'>\n",
      "  If     we     knew what it was      we were doing, it would not be called research,          would it?     - Albert Einstein\n",
      "\n",
      "Time is a drug. Too       much of it kills you.  -  Terry Pratchett\n",
      "\n",
      "\n",
      " An expert is a person who       has made all the mistakes that           can be made in a          very narrow field - Niels Bohr\n",
      "\n",
      "   Everything must be made as simple as possible. But not simpler. - Albert Einstein     \n",
      "\n",
      "\n",
      "  Nothing in life                is to be feared, it is only to be understood. Now is the time to understand more, so that we may fear less. - Marie  Curie  \n",
      "\n",
      "If I have seen further     it is by standing on the shoulders of Giants. - Isaac Newton\n"
     ]
    }
   ],
   "source": [
    "with open(\"quotes.txt\", \"r\") as f_read: \n",
    "    quotes_raw = f_read.read()\n",
    "    print (f_read) # what you can see from just opening the file\n",
    "\n",
    "    print(quotes_raw) # what you can see from applying the read() method on the same file\n",
    "\n",
    "    quotes_raw = [quote.strip() for quote in quotes_raw]"
   ]
  },
  {
   "cell_type": "code",
   "execution_count": 38,
   "id": "bb3f3130",
   "metadata": {},
   "outputs": [
    {
     "name": "stdout",
     "output_type": "stream",
     "text": [
      "If     we     knew what it was      we were doing, it would not be called research,          would it?     - Albert Einstein\n",
      "\n",
      "\n",
      "\n",
      "Time is a drug. Too       much of it kills you.  -  Terry Pratchett\n",
      "\n",
      "\n",
      "\n",
      "\n",
      "\n",
      "An expert is a person who       has made all the mistakes that           can be made in a          very narrow field - Niels Bohr\n",
      "\n",
      "\n",
      "\n",
      "Everything must be made as simple as possible. But not simpler. - Albert Einstein     \n",
      "\n",
      "\n",
      "\n",
      "\n",
      "\n",
      "Nothing in life                is to be feared, it is only to be understood. Now is the time to understand more, so that we may fear less. - Marie  Curie  \n",
      "\n",
      "\n",
      "\n",
      "If I have seen further     it is by standing on the shoulders of Giants. - Isaac Newton\n"
     ]
    }
   ],
   "source": [
    "# loop through the lines in the file contents\n",
    "with open(\"quotes.txt\", \"r\") as f_read:\n",
    "    for quote in f_read:\n",
    "        \n",
    "        # data cleaning \n",
    "        quote = quote.strip(\" \") # replace the quote with a modified quote/ remove leading/trailing whitespace characters\n",
    "\n",
    "       # print each line\n",
    "\n",
    "        print(quote)"
   ]
  },
  {
   "cell_type": "code",
   "execution_count": 64,
   "id": "86a46f51",
   "metadata": {},
   "outputs": [
    {
     "name": "stdout",
     "output_type": "stream",
     "text": [
      " If we knew what it was we were doing, it would not be called research, would it? - Albert Einstein\n",
      "\n",
      "\n",
      "\n",
      "Time is a drug. Too much of it kills you. - Terry Pratchett\n",
      "\n",
      "\n",
      "\n",
      "\n",
      "\n",
      " An expert is a person who has made all the mistakes that can be made in a very narrow field - Niels Bohr\n",
      "\n",
      "\n",
      "\n",
      " Everything must be made as simple as possible. But not simpler. - Albert Einstein \n",
      "\n",
      "\n",
      "\n",
      "\n",
      "\n",
      " Nothing in life is to be feared, it is only to be understood. Now is the time to understand more, so that we may fear less. - Marie Curie \n",
      "\n",
      "\n",
      "\n",
      "If I have seen further it is by standing on the shoulders of Giants. - Isaac Newto\n"
     ]
    }
   ],
   "source": [
    "# loop through the lines in the file contents\n",
    "with open(\"quotes.txt\", \"r\") as f_read:\n",
    "    for quote in f_read:\n",
    "        \n",
    "        # data cleaning \n",
    "        quote = quote.strip(\"n\") # replace the quote with a modified quote/ remove leading/trailing whitespace characters\n",
    "        quote = re.sub(\" +\",  \" \", quote)\n",
    "               # print each line\n",
    "        print(quote)"
   ]
  },
  {
   "cell_type": "markdown",
   "id": "2dbb3fbe",
   "metadata": {},
   "source": [
    "# create an empty list for saving quote"
   ]
  },
  {
   "cell_type": "code",
   "execution_count": null,
   "id": "53f840df",
   "metadata": {},
   "outputs": [
    {
     "name": "stdout",
     "output_type": "stream",
     "text": [
      " If we knew what it was we were doing, it would not be called research, would it? - Albert Einstein\n",
      "\n",
      "\n",
      "\n",
      "Time is a drug. Too much of it kills you. - Terry Pratchett\n",
      "\n",
      "\n",
      "\n",
      "\n",
      "\n",
      " An expert is a person who has made all the mistakes that can be made in a very narrow field - Niels Bohr\n",
      "\n",
      "\n",
      "\n",
      " Everything must be made as simple as possible. But not simpler. - Albert Einstein \n",
      "\n",
      "\n",
      "\n",
      "\n",
      "\n",
      " Nothing in life is to be feared, it is only to be understood. Now is the time to understand more, so that we may fear less. - Marie Curie \n",
      "\n",
      "\n",
      "\n",
      "If I have seen further it is by standing on the shoulders of Giants. - Isaac Newto\n"
     ]
    }
   ],
   "source": [
    "# loop through the lines in the file contents\n",
    "i = 1\n",
    "with open(\"quotes.txt\", \"r\") as f_read, open(\"cleaned_quotes.txt\", \"w\") as f_write:\n",
    "    for quote in f_read:\n",
    "        \n",
    "        # data cleaning \n",
    "        quote = quote.strip(\"n\") # replace the quote with a modified quote/ remove leading/trailing whitespace characters\n",
    "        quote = re.sub(\" +\",  \" \", quote)\n",
    "               # print each line\n",
    "        \n",
    "\n",
    "        if quote != \"\":\n",
    "            with open(\"cleaned_quotes.txt\", \"a\") as f_write:\n",
    "                f_write.write(f\"{i}. {quote} \")\n",
    "                i += 1\n",
    "                print(quote)"
   ]
  }
 ],
 "metadata": {
  "kernelspec": {
   "display_name": ".venv",
   "language": "python",
   "name": "python3"
  },
  "language_info": {
   "codemirror_mode": {
    "name": "ipython",
    "version": 3
   },
   "file_extension": ".py",
   "mimetype": "text/x-python",
   "name": "python",
   "nbconvert_exporter": "python",
   "pygments_lexer": "ipython3",
   "version": "3.12.10"
  }
 },
 "nbformat": 4,
 "nbformat_minor": 5
}
