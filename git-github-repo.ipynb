{
 "cells": [
  {
   "cell_type": "code",
   "execution_count": 6,
   "id": "0db143f4",
   "metadata": {},
   "outputs": [
    {
     "name": "stdout",
     "output_type": "stream",
     "text": [
      "Hello, World!\n"
     ]
    }
   ],
   "source": [
    "#Input and output\n",
    "print (\"Hello, World!\")"
   ]
  },
  {
   "cell_type": "code",
   "execution_count": 3,
   "id": "bc13fc2a",
   "metadata": {},
   "outputs": [
    {
     "ename": "SyntaxError",
     "evalue": "Missing parentheses in call to 'print'. Did you mean print(...)? (1326932773.py, line 1)",
     "output_type": "error",
     "traceback": [
      "  \u001b[36mCell\u001b[39m\u001b[36m \u001b[39m\u001b[32mIn[3]\u001b[39m\u001b[32m, line 1\u001b[39m\n\u001b[31m    \u001b[39m\u001b[31mprint \"my name is Tobi\"\u001b[39m\n    ^\n\u001b[31mSyntaxError\u001b[39m\u001b[31m:\u001b[39m Missing parentheses in call to 'print'. Did you mean print(...)?\n"
     ]
    }
   ],
   "source": [
    "print \"my name is Tobi\""
   ]
  },
  {
   "cell_type": "code",
   "execution_count": 7,
   "id": "c7f02da8",
   "metadata": {},
   "outputs": [
    {
     "name": "stdout",
     "output_type": "stream",
     "text": [
      " my name is Tobi\n"
     ]
    }
   ],
   "source": [
    "print (\" my name is Tobi\")"
   ]
  },
  {
   "cell_type": "code",
   "execution_count": 8,
   "id": "9178433a",
   "metadata": {},
   "outputs": [
    {
     "name": "stdout",
     "output_type": "stream",
     "text": [
      "i am in the process of learning\n"
     ]
    }
   ],
   "source": [
    "print (\"i am in the process of learning\")"
   ]
  },
  {
   "cell_type": "code",
   "execution_count": 9,
   "id": "83613846",
   "metadata": {},
   "outputs": [
    {
     "name": "stdout",
     "output_type": "stream",
     "text": [
      "i am trying esc + y and esc + m\n",
      "i am trying esc + y and esc + m\n"
     ]
    }
   ],
   "source": [
    "print (\"i am trying esc + y and esc + m\")\n",
    "print (\"i am trying esc + y and esc + m\")"
   ]
  },
  {
   "cell_type": "code",
   "execution_count": 10,
   "id": "2a9fb54a",
   "metadata": {},
   "outputs": [
    {
     "ename": "NameError",
     "evalue": "name 'lael' is not defined",
     "output_type": "error",
     "traceback": [
      "\u001b[31m---------------------------------------------------------------------------\u001b[39m",
      "\u001b[31mNameError\u001b[39m                                 Traceback (most recent call last)",
      "\u001b[36mCell\u001b[39m\u001b[36m \u001b[39m\u001b[32mIn[10]\u001b[39m\u001b[32m, line 1\u001b[39m\n\u001b[32m----> \u001b[39m\u001b[32m1\u001b[39m name = \u001b[43mlael\u001b[49m \n\u001b[32m      2\u001b[39m \u001b[38;5;28mprint\u001b[39m (name)\n",
      "\u001b[31mNameError\u001b[39m: name 'lael' is not defined"
     ]
    }
   ],
   "source": [
    "name = lael \n",
    "print (name)"
   ]
  },
  {
   "cell_type": "code",
   "execution_count": 14,
   "id": "c2d5de63",
   "metadata": {},
   "outputs": [
    {
     "name": "stdout",
     "output_type": "stream",
     "text": [
      "my name is lael\n"
     ]
    }
   ],
   "source": [
    "name = \"lael\"\n",
    "print(f\"my name is {name}\")"
   ]
  },
  {
   "cell_type": "code",
   "execution_count": 15,
   "id": "08029dbf",
   "metadata": {},
   "outputs": [
    {
     "name": "stdout",
     "output_type": "stream",
     "text": [
      " i am still practicing variabes\n"
     ]
    }
   ],
   "source": [
    "name = \" i am still practicing variabes\"\n",
    "print (f\"{name}\")"
   ]
  },
  {
   "cell_type": "code",
   "execution_count": 17,
   "id": "bb750d07",
   "metadata": {},
   "outputs": [
    {
     "name": "stdout",
     "output_type": "stream",
     "text": [
      "let me move to f strings\n"
     ]
    }
   ],
   "source": [
    "name = \"let me move to f strings\"\n",
    "print (f\"{name}\")\n",
    "name = \"let me move to f strings\""
   ]
  },
  {
   "cell_type": "code",
   "execution_count": 18,
   "id": "6f3a82c1",
   "metadata": {},
   "outputs": [
    {
     "name": "stdout",
     "output_type": "stream",
     "text": [
      "name is lael is 1 year old\n"
     ]
    }
   ],
   "source": [
    "name = input(\"what is your name?\")\n",
    "age = input(\"what is your age?\")\n",
    "print(f\"{name} is {age}\")"
   ]
  },
  {
   "cell_type": "markdown",
   "id": "6fb27a4a",
   "metadata": {},
   "source": []
  }
 ],
 "metadata": {
  "kernelspec": {
   "display_name": ".venv",
   "language": "python",
   "name": "python3"
  },
  "language_info": {
   "codemirror_mode": {
    "name": "ipython",
    "version": 3
   },
   "file_extension": ".py",
   "mimetype": "text/x-python",
   "name": "python",
   "nbconvert_exporter": "python",
   "pygments_lexer": "ipython3",
   "version": "3.12.10"
  }
 },
 "nbformat": 4,
 "nbformat_minor": 5
}
