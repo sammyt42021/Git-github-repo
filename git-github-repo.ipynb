{
 "cells": [
  {
   "cell_type": "markdown",
   "id": "2ff8cbec",
   "metadata": {},
   "source": [
    "## Variable, strings, fstrings and input"
   ]
  },
  {
   "cell_type": "code",
   "execution_count": 22,
   "id": "0db143f4",
   "metadata": {},
   "outputs": [
    {
     "name": "stdout",
     "output_type": "stream",
     "text": [
      "Hello, World!\n"
     ]
    }
   ],
   "source": [
    "#Input and output\n",
    "print (\"Hello, World!\")"
   ]
  },
  {
   "cell_type": "code",
   "execution_count": 23,
   "id": "bc13fc2a",
   "metadata": {},
   "outputs": [
    {
     "ename": "SyntaxError",
     "evalue": "Missing parentheses in call to 'print'. Did you mean print(...)? (1326932773.py, line 1)",
     "output_type": "error",
     "traceback": [
      "  \u001b[36mCell\u001b[39m\u001b[36m \u001b[39m\u001b[32mIn[23]\u001b[39m\u001b[32m, line 1\u001b[39m\n\u001b[31m    \u001b[39m\u001b[31mprint \"my name is Tobi\"\u001b[39m\n    ^\n\u001b[31mSyntaxError\u001b[39m\u001b[31m:\u001b[39m Missing parentheses in call to 'print'. Did you mean print(...)?\n"
     ]
    }
   ],
   "source": [
    "print \"my name is Tobi\""
   ]
  },
  {
   "cell_type": "code",
   "execution_count": null,
   "id": "c7f02da8",
   "metadata": {},
   "outputs": [
    {
     "name": "stdout",
     "output_type": "stream",
     "text": [
      " my name is Tobi\n"
     ]
    }
   ],
   "source": [
    "print (\" my name is Tobi\")"
   ]
  },
  {
   "cell_type": "code",
   "execution_count": null,
   "id": "9178433a",
   "metadata": {},
   "outputs": [
    {
     "name": "stdout",
     "output_type": "stream",
     "text": [
      "i am in the process of learning\n"
     ]
    }
   ],
   "source": [
    "print (\"i am in the process of learning\")"
   ]
  },
  {
   "cell_type": "code",
   "execution_count": null,
   "id": "83613846",
   "metadata": {},
   "outputs": [
    {
     "name": "stdout",
     "output_type": "stream",
     "text": [
      "i am trying esc + y and esc + m\n",
      "i am trying esc + y and esc + m\n"
     ]
    }
   ],
   "source": [
    "print (\"i am trying esc + y and esc + m\")\n",
    "print (\"i am trying esc + y and esc + m\")"
   ]
  },
  {
   "cell_type": "code",
   "execution_count": null,
   "id": "2a9fb54a",
   "metadata": {},
   "outputs": [
    {
     "ename": "NameError",
     "evalue": "name 'lael' is not defined",
     "output_type": "error",
     "traceback": [
      "\u001b[31m---------------------------------------------------------------------------\u001b[39m",
      "\u001b[31mNameError\u001b[39m                                 Traceback (most recent call last)",
      "\u001b[36mCell\u001b[39m\u001b[36m \u001b[39m\u001b[32mIn[10]\u001b[39m\u001b[32m, line 1\u001b[39m\n\u001b[32m----> \u001b[39m\u001b[32m1\u001b[39m name = \u001b[43mlael\u001b[49m \n\u001b[32m      2\u001b[39m \u001b[38;5;28mprint\u001b[39m (name)\n",
      "\u001b[31mNameError\u001b[39m: name 'lael' is not defined"
     ]
    }
   ],
   "source": [
    "name = lael \n",
    "print (name)"
   ]
  },
  {
   "cell_type": "code",
   "execution_count": null,
   "id": "c2d5de63",
   "metadata": {},
   "outputs": [
    {
     "name": "stdout",
     "output_type": "stream",
     "text": [
      "my name is lael\n"
     ]
    }
   ],
   "source": [
    "name = \"lael\"\n",
    "print(f\"my name is {name}\")"
   ]
  },
  {
   "cell_type": "code",
   "execution_count": null,
   "id": "08029dbf",
   "metadata": {},
   "outputs": [
    {
     "name": "stdout",
     "output_type": "stream",
     "text": [
      " i am still practicing variabes\n"
     ]
    }
   ],
   "source": [
    "name = \" i am still practicing variabes\"\n",
    "print (f\"{name}\")"
   ]
  },
  {
   "cell_type": "code",
   "execution_count": null,
   "id": "bb750d07",
   "metadata": {},
   "outputs": [
    {
     "name": "stdout",
     "output_type": "stream",
     "text": [
      "let me move to f strings\n"
     ]
    }
   ],
   "source": [
    "name = \"let me move to f strings\"\n",
    "print (f\"{name}\")\n",
    "name = \"let me move to f strings\""
   ]
  },
  {
   "cell_type": "code",
   "execution_count": null,
   "id": "6f3a82c1",
   "metadata": {},
   "outputs": [
    {
     "name": "stdout",
     "output_type": "stream",
     "text": [
      "name is lael is 1 year old\n"
     ]
    }
   ],
   "source": [
    "name = input(\"what is your name?\")\n",
    "age = input(\"what is your age?\")\n",
    "print(f\"{name} is {age}\")"
   ]
  },
  {
   "cell_type": "code",
   "execution_count": null,
   "id": "1e8f672b",
   "metadata": {},
   "outputs": [
    {
     "name": "stdout",
     "output_type": "stream",
     "text": [
      "i am trying to figure out using f string and input and just to master it\n"
     ]
    }
   ],
   "source": [
    "name = input(\"what is are you trying to do now?\")\n",
    "age = input(\"whats next after this?\")\n",
    "print(f\"{name} and {age}\")"
   ]
  },
  {
   "cell_type": "code",
   "execution_count": 24,
   "id": "e8ac17f7",
   "metadata": {},
   "outputs": [
    {
     "name": "stdout",
     "output_type": "stream",
     "text": [
      "hello world\n"
     ]
    }
   ],
   "source": [
    "print (\"hello world\")"
   ]
  },
  {
   "cell_type": "code",
   "execution_count": 28,
   "id": "eb8a390e",
   "metadata": {},
   "outputs": [
    {
     "name": "stdout",
     "output_type": "stream",
     "text": [
      "my daugheter name is lael and she is 1 years old\n"
     ]
    }
   ],
   "source": [
    "name = \"lael\"\n",
    "age = 1 \n",
    "print (f\"my daugheter name is {name} and she is {age} years old\")\n",
    "\n"
   ]
  },
  {
   "cell_type": "code",
   "execution_count": 38,
   "id": "85ceafb2",
   "metadata": {},
   "outputs": [
    {
     "name": "stdout",
     "output_type": "stream",
     "text": [
      "message.upper lets go to th supermarket \n"
     ]
    }
   ],
   "source": [
    "message = \" lets go to th supermarket \"\n",
    "print (f\"message.upper{message}\")"
   ]
  },
  {
   "cell_type": "code",
   "execution_count": 40,
   "id": "89371786",
   "metadata": {},
   "outputs": [
    {
     "name": "stdout",
     "output_type": "stream",
     "text": [
      " LETS GO TO THE HOUSE\n"
     ]
    }
   ],
   "source": [
    "message = \" lets go to the house\"\n",
    "print (message.upper())"
   ]
  },
  {
   "cell_type": "code",
   "execution_count": 41,
   "id": "2be113bf",
   "metadata": {},
   "outputs": [
    {
     "name": "stdout",
     "output_type": "stream",
     "text": [
      " JUSTE TRYING OU THE UPPER CASE THING\n"
     ]
    }
   ],
   "source": [
    "message = \" juste trying ou the upper case thing\"\n",
    "print (message.upper ())"
   ]
  },
  {
   "cell_type": "code",
   "execution_count": 42,
   "id": "011ae8ea",
   "metadata": {},
   "outputs": [
    {
     "name": "stdout",
     "output_type": "stream",
     "text": [
      " WE ARE MMOVING TO TYPE COERCION\n"
     ]
    }
   ],
   "source": [
    "message = \" we are mmoving to type coercion\"\n",
    "print (message.upper ())"
   ]
  },
  {
   "cell_type": "code",
   "execution_count": 43,
   "id": "d1ecf491",
   "metadata": {},
   "outputs": [
    {
     "ename": "SyntaxError",
     "evalue": "invalid character '×' (U+00D7) (3813387143.py, line 4)",
     "output_type": "error",
     "traceback": [
      "  \u001b[36mCell\u001b[39m\u001b[36m \u001b[39m\u001b[32mIn[43]\u001b[39m\u001b[32m, line 4\u001b[39m\n\u001b[31m    \u001b[39m\u001b[31mforce = gravity × mass\u001b[39m\n                    ^\n\u001b[31mSyntaxError\u001b[39m\u001b[31m:\u001b[39m invalid character '×' (U+00D7)\n"
     ]
    }
   ],
   "source": [
    "gravity = 5.5\n",
    "mass = input (\"enter your weight in kg: \")\n",
    "\n",
    "force = gravity × mass\n",
    "print (f\"{force = }N\")"
   ]
  },
  {
   "cell_type": "code",
   "execution_count": 44,
   "id": "99ab7474",
   "metadata": {},
   "outputs": [
    {
     "ename": "TypeError",
     "evalue": "can't multiply sequence by non-int of type 'float'",
     "output_type": "error",
     "traceback": [
      "\u001b[31m---------------------------------------------------------------------------\u001b[39m",
      "\u001b[31mTypeError\u001b[39m                                 Traceback (most recent call last)",
      "\u001b[36mCell\u001b[39m\u001b[36m \u001b[39m\u001b[32mIn[44]\u001b[39m\u001b[32m, line 4\u001b[39m\n\u001b[32m      1\u001b[39m gravity = \u001b[32m5.5\u001b[39m\n\u001b[32m      2\u001b[39m mass = \u001b[38;5;28minput\u001b[39m (\u001b[33m\"\u001b[39m\u001b[33menter your weight in kg: \u001b[39m\u001b[33m\"\u001b[39m)\n\u001b[32m----> \u001b[39m\u001b[32m4\u001b[39m force = \u001b[43mgravity\u001b[49m\u001b[43m \u001b[49m\u001b[43m*\u001b[49m\u001b[43m \u001b[49m\u001b[43mmass\u001b[49m\n\u001b[32m      5\u001b[39m \u001b[38;5;28mprint\u001b[39m (\u001b[33mf\u001b[39m\u001b[33m\"\u001b[39m\u001b[38;5;132;01m{\u001b[39;00mforce\u001b[38;5;250m \u001b[39m\u001b[38;5;132;01m= }\u001b[39;00m\u001b[33mN\u001b[39m\u001b[33m\"\u001b[39m)\n",
      "\u001b[31mTypeError\u001b[39m: can't multiply sequence by non-int of type 'float'"
     ]
    }
   ],
   "source": [
    "gravity = 5.5\n",
    "mass = input (\"enter your weight in kg: \")\n",
    "\n",
    "force = gravity * mass\n",
    "print (f\"{force = }N\")"
   ]
  },
  {
   "cell_type": "code",
   "execution_count": 45,
   "id": "89d42ddb",
   "metadata": {},
   "outputs": [
    {
     "ename": "TypeError",
     "evalue": "can't multiply sequence by non-int of type 'float'",
     "output_type": "error",
     "traceback": [
      "\u001b[31m---------------------------------------------------------------------------\u001b[39m",
      "\u001b[31mTypeError\u001b[39m                                 Traceback (most recent call last)",
      "\u001b[36mCell\u001b[39m\u001b[36m \u001b[39m\u001b[32mIn[45]\u001b[39m\u001b[32m, line 4\u001b[39m\n\u001b[32m      1\u001b[39m gravity = \u001b[32m5.5\u001b[39m\n\u001b[32m      2\u001b[39m mass = \u001b[38;5;28minput\u001b[39m (\u001b[33m\"\u001b[39m\u001b[33menter your weight in kg: \u001b[39m\u001b[33m\"\u001b[39m)\n\u001b[32m----> \u001b[39m\u001b[32m4\u001b[39m force = \u001b[43mgravity\u001b[49m\u001b[43m \u001b[49m\u001b[43m*\u001b[49m\u001b[43m \u001b[49m\u001b[43mmass\u001b[49m\n\u001b[32m      5\u001b[39m \u001b[38;5;28mprint\u001b[39m (\u001b[33mf\u001b[39m\u001b[33m\"\u001b[39m\u001b[38;5;132;01m{\u001b[39;00mforce\u001b[38;5;250m \u001b[39m\u001b[38;5;132;01m= }\u001b[39;00m\u001b[33mN\u001b[39m\u001b[33m\"\u001b[39m)\n",
      "\u001b[31mTypeError\u001b[39m: can't multiply sequence by non-int of type 'float'"
     ]
    }
   ],
   "source": [
    "gravity = 5.5\n",
    "mass = input (\"enter your weight in kg: \")\n",
    "\n",
    "force = gravity * mass\n",
    "print (f\"{force = }N\")"
   ]
  },
  {
   "cell_type": "code",
   "execution_count": 47,
   "id": "5b7f7b80",
   "metadata": {},
   "outputs": [
    {
     "name": "stdout",
     "output_type": "stream",
     "text": [
      "force = 275.0N\n"
     ]
    }
   ],
   "source": [
    "gravity = 5.5\n",
    "mass = float (input (\"enter your weight in kg: \"))\n",
    "force = gravity * mass\n",
    "print (f\"{force = }N\")"
   ]
  }
 ],
 "metadata": {
  "kernelspec": {
   "display_name": ".venv",
   "language": "python",
   "name": "python3"
  },
  "language_info": {
   "codemirror_mode": {
    "name": "ipython",
    "version": 3
   },
   "file_extension": ".py",
   "mimetype": "text/x-python",
   "name": "python",
   "nbconvert_exporter": "python",
   "pygments_lexer": "ipython3",
   "version": "3.12.10"
  }
 },
 "nbformat": 4,
 "nbformat_minor": 5
}
