{
 "cells": [
  {
   "cell_type": "markdown",
   "id": "d666fa5f",
   "metadata": {},
   "source": [
    "# If statement "
   ]
  },
  {
   "cell_type": "code",
   "execution_count": null,
   "id": "546904fc",
   "metadata": {},
   "outputs": [
    {
     "ename": "SyntaxError",
     "evalue": "invalid syntax (2443333758.py, line 6)",
     "output_type": "error",
     "traceback": [
      "  \u001b[36mCell\u001b[39m\u001b[36m \u001b[39m\u001b[32mIn[5]\u001b[39m\u001b[32m, line 6\u001b[39m\n\u001b[31m    \u001b[39m\u001b[31melse:\u001b[39m\n    ^\n\u001b[31mSyntaxError\u001b[39m\u001b[31m:\u001b[39m invalid syntax\n"
     ]
    }
   ],
   "source": [
    "age = int(input(\"Enter your age: \"))\n",
    "age_limit = 17\n",
    "if age < age_limit:\n",
    "\n",
    "    print (\"you are too young for this task\")\n",
    "    else:\n",
    "    print (\"enjoy your time\") \n"
   ]
  },
  {
   "cell_type": "code",
   "execution_count": null,
   "id": "2ff2d376",
   "metadata": {},
   "outputs": [],
   "source": []
  },
  {
   "cell_type": "code",
   "execution_count": 21,
   "id": "5bdfc273",
   "metadata": {},
   "outputs": [
    {
     "name": "stdout",
     "output_type": "stream",
     "text": [
      "you are too young for this task\n"
     ]
    }
   ],
   "source": [
    "age = int(input(\"Enter your age: \"))\n",
    "age_limit = 17\n",
    "if age < age_limit:\n",
    "    print(\"you are too young for this task\")\n",
    "else:\n",
    "    print(\"enjoy your time\")\n"
   ]
  },
  {
   "cell_type": "code",
   "execution_count": 23,
   "id": "22e2cfbd",
   "metadata": {},
   "outputs": [
    {
     "name": "stdout",
     "output_type": "stream",
     "text": [
      "thank you for your payment\n"
     ]
    }
   ],
   "source": [
    "pepsi = 20\n",
    "pepsi_price = int(input(\"please pay for your pepsi: \"))\n",
    "if pepsi_price < pepsi:\n",
    "    print(\"insufficient funds\")\n",
    "else:\n",
    "    print(\"thank you for your payment\")\n"
   ]
  },
  {
   "cell_type": "code",
   "execution_count": 25,
   "id": "bea6dba4",
   "metadata": {},
   "outputs": [
    {
     "name": "stdout",
     "output_type": "stream",
     "text": [
      "Enjoy your drinks\n"
     ]
    }
   ],
   "source": [
    "pepsi = 20\n",
    "pepsi_price = int(input(\"please pay for your pepsi: \"))\n",
    "if pepsi_price >= pepsi:\n",
    "    print(\"Enjoy your drinks\")\n",
    "else:\n",
    "    print(\"Failed transaction\")"
   ]
  },
  {
   "cell_type": "markdown",
   "id": "3ac8085e",
   "metadata": {},
   "source": [
    "# Modulus"
   ]
  },
  {
   "cell_type": "code",
   "execution_count": 40,
   "id": "f99fe523",
   "metadata": {},
   "outputs": [
    {
     "name": "stdout",
     "output_type": "stream",
     "text": [
      "odd number\n"
     ]
    }
   ],
   "source": [
    "number = 9\n",
    "if number % 2 == 0:\n",
    "    print(\"even number\")   \n",
    "else:\n",
    "        print(\"odd number\")"
   ]
  },
  {
   "cell_type": "code",
   "execution_count": 41,
   "id": "5c34fdb0",
   "metadata": {},
   "outputs": [
    {
     "ename": "ValueError",
     "evalue": "invalid literal for int() with base 10: ''",
     "output_type": "error",
     "traceback": [
      "\u001b[31m---------------------------------------------------------------------------\u001b[39m",
      "\u001b[31mValueError\u001b[39m                                Traceback (most recent call last)",
      "\u001b[36mCell\u001b[39m\u001b[36m \u001b[39m\u001b[32mIn[41]\u001b[39m\u001b[32m, line 1\u001b[39m\n\u001b[32m----> \u001b[39m\u001b[32m1\u001b[39m number = \u001b[38;5;28;43mint\u001b[39;49m\u001b[43m(\u001b[49m\u001b[38;5;28;43minput\u001b[39;49m\u001b[43m(\u001b[49m\u001b[33;43m\"\u001b[39;49m\u001b[33;43mEnter a number: \u001b[39;49m\u001b[33;43m\"\u001b[39;49m\u001b[43m)\u001b[49m\u001b[43m)\u001b[49m\n\u001b[32m      2\u001b[39m \u001b[38;5;28;01mif\u001b[39;00m number % \u001b[32m2\u001b[39m == \u001b[32m0\u001b[39m:\n\u001b[32m      3\u001b[39m     \u001b[38;5;28mprint\u001b[39m(\u001b[33m\"\u001b[39m\u001b[33meven number\u001b[39m\u001b[33m\"\u001b[39m)   \n",
      "\u001b[31mValueError\u001b[39m: invalid literal for int() with base 10: ''"
     ]
    }
   ],
   "source": [
    "number = int(input(\"Enter a number: \"))\n",
    "if number % 2 == 0:\n",
    "    print(\"even number\")   \n",
    "else:\n",
    "        print(\"odd number\")"
   ]
  },
  {
   "cell_type": "code",
   "execution_count": null,
   "id": "f6c9c331",
   "metadata": {},
   "outputs": [
    {
     "name": "stdout",
     "output_type": "stream",
     "text": [
      "7\n"
     ]
    }
   ],
   "source": [
    "print(67 % 20)"
   ]
  },
  {
   "cell_type": "code",
   "execution_count": null,
   "id": "200e6886",
   "metadata": {},
   "outputs": [
    {
     "name": "stdout",
     "output_type": "stream",
     "text": [
      "false\n"
     ]
    }
   ],
   "source": [
    "if [7]:\n",
    "    print(\"truth\")\n",
    "else:\n",
    "    print(\"false\")"
   ]
  },
  {
   "cell_type": "code",
   "execution_count": 42,
   "id": "63688966",
   "metadata": {},
   "outputs": [
    {
     "name": "stdout",
     "output_type": "stream",
     "text": [
      "truth\n"
     ]
    }
   ],
   "source": [
    "if [78]:\n",
    "    print(\"truth\")\n",
    "else:\n",
    "    print(\"false\")"
   ]
  },
  {
   "cell_type": "markdown",
   "id": "97b43826",
   "metadata": {},
   "source": [
    "# If-elseif-else"
   ]
  },
  {
   "cell_type": "code",
   "execution_count": 49,
   "id": "3224644b",
   "metadata": {},
   "outputs": [
    {
     "name": "stdout",
     "output_type": "stream",
     "text": [
      "give patient 10mg of alvedon\n"
     ]
    }
   ],
   "source": [
    "weight = 60\n",
    "if weight <= 50:\n",
    "    print(\"give patient 5mg of alvedon\")\n",
    "elif weight >= 51:\n",
    "      print(\"give patient 10mg of alvedon\")"
   ]
  },
  {
   "cell_type": "code",
   "execution_count": 56,
   "id": "7a9e5938",
   "metadata": {},
   "outputs": [
    {
     "name": "stdout",
     "output_type": "stream",
     "text": [
      "not recommended\n"
     ]
    }
   ],
   "source": [
    "weight = 59\n",
    "if weight < 60:\n",
    "    print(\"not recommended\")\n",
    "elif weight >= 60 and weight <= 80:\n",
    "    print(\"give patient 5mg of alvedon\")\n",
    "elif weight > 80:\n",
    "      print(\"give patient 10mg of alvedon\")"
   ]
  },
  {
   "cell_type": "code",
   "execution_count": 57,
   "id": "076cfb8a",
   "metadata": {},
   "outputs": [
    {
     "name": "stdout",
     "output_type": "stream",
     "text": [
      "give patient 10mg of alvedon\n"
     ]
    }
   ],
   "source": [
    "weight = 82\n",
    "if weight < 60:\n",
    "    print(\"not recommended\")\n",
    "elif weight >= 60 and weight <= 80:\n",
    "    print(\"give patient 5mg of alvedon\")\n",
    "elif weight > 80:\n",
    "      print(\"give patient 10mg of alvedon\")"
   ]
  },
  {
   "cell_type": "markdown",
   "id": "515ce3dd",
   "metadata": {},
   "source": [
    "# Nested if statement"
   ]
  },
  {
   "cell_type": "code",
   "execution_count": 59,
   "id": "54ea989d",
   "metadata": {},
   "outputs": [
    {
     "name": "stdout",
     "output_type": "stream",
     "text": [
      "25 is divisible by 5\n",
      "25 is odd number\n"
     ]
    }
   ],
   "source": [
    "number = 25\n",
    "if number % 5 == 0:\n",
    "    print (f\"{number} is divisible by 5\")\n",
    "if number % 2 == 0:\n",
    "    print (f\"{number} is even number\")\n",
    "else:\n",
    "        print (f\"{number} is odd number\")"
   ]
  },
  {
   "cell_type": "markdown",
   "id": "f5cc6952",
   "metadata": {},
   "source": [
    "# One line if statement"
   ]
  },
  {
   "cell_type": "code",
   "execution_count": null,
   "id": "bccefe6f",
   "metadata": {},
   "outputs": [],
   "source": []
  }
 ],
 "metadata": {
  "kernelspec": {
   "display_name": ".venv",
   "language": "python",
   "name": "python3"
  },
  "language_info": {
   "codemirror_mode": {
    "name": "ipython",
    "version": 3
   },
   "file_extension": ".py",
   "mimetype": "text/x-python",
   "name": "python",
   "nbconvert_exporter": "python",
   "pygments_lexer": "ipython3",
   "version": "3.12.10"
  }
 },
 "nbformat": 4,
 "nbformat_minor": 5
}
