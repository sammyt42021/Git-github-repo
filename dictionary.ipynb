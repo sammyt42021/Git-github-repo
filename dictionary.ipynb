{
 "cells": [
  {
   "cell_type": "markdown",
   "id": "e2323634",
   "metadata": {},
   "source": [
    "# Dictionary"
   ]
  },
  {
   "cell_type": "code",
   "execution_count": null,
   "id": "f784b195",
   "metadata": {},
   "outputs": [],
   "source": [
    "# retrieve data from "
   ]
  },
  {
   "cell_type": "markdown",
   "id": "a601ce3a",
   "metadata": {},
   "source": [
    "# iterate over a dictionary"
   ]
  },
  {
   "cell_type": "code",
   "execution_count": null,
   "id": "f267b53e",
   "metadata": {},
   "outputs": [],
   "source": [
    "words = { \n",
    "         \"data structure\": \n",
    ":}"
   ]
  },
  {
   "cell_type": "markdown",
   "id": "801ace62",
   "metadata": {},
   "source": []
  }
 ],
 "metadata": {
  "kernelspec": {
   "display_name": ".venv",
   "language": "python",
   "name": "python3"
  },
  "language_info": {
   "name": "python",
   "version": "3.12.10"
  }
 },
 "nbformat": 4,
 "nbformat_minor": 5
}
